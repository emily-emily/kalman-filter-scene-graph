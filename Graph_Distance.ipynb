{
 "cells": [
  {
   "cell_type": "markdown",
   "metadata": {},
   "source": [
    "Graph Distance\n",
    "="
   ]
  },
  {
   "cell_type": "markdown",
   "metadata": {},
   "source": [
    "This notebook explores quantitative methods of assessing the distance between two graphs, with the goal of measuring the consistency of scene graphs between frames."
   ]
  },
  {
   "cell_type": "markdown",
   "metadata": {},
   "source": [
    "# NetworkX Edit Distance"
   ]
  },
  {
   "cell_type": "markdown",
   "metadata": {},
   "source": [
    "NetworkX directional graph\n",
    "- All objects are nodes\n",
    "    - Bounding box as an attribute\n",
    "    - Category is an attribute\n",
    "    - Leave attributes as an attribute in the object\n",
    "~~- All attributes are nodes (!!) - Draw directed edge from object to attribute? is that too heavy~~\n",
    "- Predicates\n",
    "    - Directed graph from obj1 to obj2\n",
    "    - Predicate name is the edge's attribute\n",
    "\n",
    "\n",
    "Edit distance logistics\n",
    "- predicate edge must have the same label\n",
    "- objects must have the same category and iou > X%\n",
    "- attributes?\n",
    "    - we can change the cost of different operations. but the problem is we'd want predicate edges to be worth more than attribute edges?"
   ]
  },
  {
   "cell_type": "code",
   "execution_count": null,
   "metadata": {},
   "outputs": [],
   "source": [
    "import networkx as nx\n",
    "import json"
   ]
  },
  {
   "cell_type": "code",
   "execution_count": 3,
   "metadata": {},
   "outputs": [],
   "source": [
    "json_graphs = []\n",
    "with open('graphs/shortvid_scene_graphs.json') as f:\n",
    "    json_graphs = json.load(f)\n",
    "\n",
    "\n",
    "graphs = []\n",
    "for i, graph in enumerate(json_graphs):\n",
    "    g = nx.DiGraph()\n",
    "    # add all objects\n",
    "    for id, obj in graph['objects'].items():\n",
    "        g.add_node(id, **obj) # category, bounding_box, attributes\n",
    "    \n",
    "    # add all relationships\n",
    "    for obj1, obj2, pred in graph['relations']:\n",
    "        g.add_edge(obj1, obj2, predicate=pred)\n",
    "\n",
    "    graphs.append(g)"
   ]
  },
  {
   "cell_type": "code",
   "execution_count": 6,
   "metadata": {},
   "outputs": [
    {
     "data": {
      "text/plain": [
       "{'predicate': 40}"
      ]
     },
     "execution_count": 6,
     "metadata": {},
     "output_type": "execute_result"
    }
   ],
   "source": [
    "graphs[0]['chair_1']['table_1']"
   ]
  },
  {
   "cell_type": "code",
   "execution_count": 7,
   "metadata": {},
   "outputs": [],
   "source": [
    "# define fns for edit distance algorithm\n",
    "\n",
    "def iou(bb1, bb2):\n",
    "    x11, y11, x12, y12 = bb1\n",
    "    x21, y21, x22, y22 = bb2\n",
    "    x_overlap = max(0, min(x12, x22) - max(x11, x21))\n",
    "    y_overlap = max(0, min(y12, y22) - max(y11, y21))\n",
    "    intersection = x_overlap * y_overlap\n",
    "    union = (x12 - x11) * (y12 - y11) + (x22 - x21) * (y22 - y21) - intersection\n",
    "    iou = intersection / union\n",
    "    return iou\n",
    "\n",
    "def node_match(n1, n2):\n",
    "    if n1['category'] != n2['category']:\n",
    "        return False\n",
    "\n",
    "    return iou(n1['bounding_box'], n2['bounding_box']) >= 0.8\n",
    "\n",
    "def edge_match(e1, e2):\n",
    "    return e1['predicate'] == e2['predicate']\n",
    "\n",
    "def node_subst_cost(n1, n2):\n",
    "    cost = int(node_match(n1, n2))\n",
    "    # add 0.1 for every differing attribute\n",
    "    diff_attrs = set(n1['attributes']) ^ set(n2['attributes']) # shorthand for symmetric difference\n",
    "    cost += 0.1 * len(diff_attrs)\n",
    "    return cost"
   ]
  },
  {
   "cell_type": "code",
   "execution_count": 8,
   "metadata": {},
   "outputs": [],
   "source": [
    "def diff(g1, g2):\n",
    "    return nx.graph_edit_distance(g1, g2, node_match=node_match, edge_match=edge_match, node_subst_cost=node_subst_cost)"
   ]
  },
  {
   "cell_type": "code",
   "execution_count": null,
   "metadata": {},
   "outputs": [],
   "source": [
    "print(diff(graphs[0], graphs[0]))"
   ]
  },
  {
   "cell_type": "code",
   "execution_count": 10,
   "metadata": {},
   "outputs": [
    {
     "ename": "KeyboardInterrupt",
     "evalue": "",
     "output_type": "error",
     "traceback": [
      "\u001b[1;31m---------------------------------------------------------------------------\u001b[0m",
      "\u001b[1;31mKeyboardInterrupt\u001b[0m                         Traceback (most recent call last)",
      "Cell \u001b[1;32mIn[10], line 1\u001b[0m\n\u001b[1;32m----> 1\u001b[0m \u001b[38;5;28mprint\u001b[39m(\u001b[43mdiff\u001b[49m\u001b[43m(\u001b[49m\u001b[43mgraphs\u001b[49m\u001b[43m[\u001b[49m\u001b[38;5;241;43m0\u001b[39;49m\u001b[43m]\u001b[49m\u001b[43m,\u001b[49m\u001b[43m \u001b[49m\u001b[43mgraphs\u001b[49m\u001b[43m[\u001b[49m\u001b[38;5;241;43m1\u001b[39;49m\u001b[43m]\u001b[49m\u001b[43m)\u001b[49m)\n",
      "Cell \u001b[1;32mIn[8], line 2\u001b[0m, in \u001b[0;36mdiff\u001b[1;34m(g1, g2)\u001b[0m\n\u001b[0;32m      1\u001b[0m \u001b[38;5;28;01mdef\u001b[39;00m\u001b[38;5;250m \u001b[39m\u001b[38;5;21mdiff\u001b[39m(g1, g2):\n\u001b[1;32m----> 2\u001b[0m     \u001b[38;5;28;01mreturn\u001b[39;00m \u001b[43mnx\u001b[49m\u001b[38;5;241;43m.\u001b[39;49m\u001b[43mgraph_edit_distance\u001b[49m\u001b[43m(\u001b[49m\u001b[43mg1\u001b[49m\u001b[43m,\u001b[49m\u001b[43m \u001b[49m\u001b[43mg2\u001b[49m\u001b[43m,\u001b[49m\u001b[43m \u001b[49m\u001b[43mnode_match\u001b[49m\u001b[38;5;241;43m=\u001b[39;49m\u001b[43mnode_match\u001b[49m\u001b[43m,\u001b[49m\u001b[43m \u001b[49m\u001b[43medge_match\u001b[49m\u001b[38;5;241;43m=\u001b[39;49m\u001b[43medge_match\u001b[49m\u001b[43m,\u001b[49m\u001b[43m \u001b[49m\u001b[43mnode_subst_cost\u001b[49m\u001b[38;5;241;43m=\u001b[39;49m\u001b[43mnode_subst_cost\u001b[49m\u001b[43m)\u001b[49m\n",
      "File \u001b[1;32m<class 'networkx.utils.decorators.argmap'> compilation 4:3\u001b[0m, in \u001b[0;36margmap_graph_edit_distance_1\u001b[1;34m(G1, G2, node_match, edge_match, node_subst_cost, node_del_cost, node_ins_cost, edge_subst_cost, edge_del_cost, edge_ins_cost, roots, upper_bound, timeout, backend, **backend_kwargs)\u001b[0m\n\u001b[0;32m      1\u001b[0m \u001b[38;5;28;01mimport\u001b[39;00m\u001b[38;5;250m \u001b[39m\u001b[38;5;21;01mbz2\u001b[39;00m\n\u001b[0;32m      2\u001b[0m \u001b[38;5;28;01mimport\u001b[39;00m\u001b[38;5;250m \u001b[39m\u001b[38;5;21;01mcollections\u001b[39;00m\n\u001b[1;32m----> 3\u001b[0m \u001b[38;5;28;01mimport\u001b[39;00m\u001b[38;5;250m \u001b[39m\u001b[38;5;21;01mgzip\u001b[39;00m\n\u001b[0;32m      4\u001b[0m \u001b[38;5;28;01mimport\u001b[39;00m\u001b[38;5;250m \u001b[39m\u001b[38;5;21;01minspect\u001b[39;00m\n\u001b[0;32m      5\u001b[0m \u001b[38;5;28;01mimport\u001b[39;00m\u001b[38;5;250m \u001b[39m\u001b[38;5;21;01mitertools\u001b[39;00m\n",
      "File \u001b[1;32mc:\\Users\\emily\\Documents\\coursework\\vip lab\\kalman-filter-scene-graph\\.venv\\Lib\\site-packages\\networkx\\utils\\backends.py:967\u001b[0m, in \u001b[0;36m_dispatchable.__call__\u001b[1;34m(self, backend, *args, **kwargs)\u001b[0m\n\u001b[0;32m    965\u001b[0m     \u001b[38;5;28;01mif\u001b[39;00m backend \u001b[38;5;129;01mis\u001b[39;00m \u001b[38;5;129;01mnot\u001b[39;00m \u001b[38;5;28;01mNone\u001b[39;00m \u001b[38;5;129;01mand\u001b[39;00m backend \u001b[38;5;241m!=\u001b[39m \u001b[38;5;124m\"\u001b[39m\u001b[38;5;124mnetworkx\u001b[39m\u001b[38;5;124m\"\u001b[39m:\n\u001b[0;32m    966\u001b[0m         \u001b[38;5;28;01mraise\u001b[39;00m \u001b[38;5;167;01mImportError\u001b[39;00m(\u001b[38;5;124mf\u001b[39m\u001b[38;5;124m\"\u001b[39m\u001b[38;5;124m'\u001b[39m\u001b[38;5;132;01m{\u001b[39;00mbackend\u001b[38;5;132;01m}\u001b[39;00m\u001b[38;5;124m'\u001b[39m\u001b[38;5;124m backend is not installed\u001b[39m\u001b[38;5;124m\"\u001b[39m)\n\u001b[1;32m--> 967\u001b[0m     \u001b[38;5;28;01mreturn\u001b[39;00m \u001b[38;5;28;43mself\u001b[39;49m\u001b[38;5;241;43m.\u001b[39;49m\u001b[43morig_func\u001b[49m\u001b[43m(\u001b[49m\u001b[38;5;241;43m*\u001b[39;49m\u001b[43margs\u001b[49m\u001b[43m,\u001b[49m\u001b[43m \u001b[49m\u001b[38;5;241;43m*\u001b[39;49m\u001b[38;5;241;43m*\u001b[39;49m\u001b[43mkwargs\u001b[49m\u001b[43m)\u001b[49m\n\u001b[0;32m    969\u001b[0m \u001b[38;5;66;03m# Use `backend_name` in this function instead of `backend`.\u001b[39;00m\n\u001b[0;32m    970\u001b[0m \u001b[38;5;66;03m# This is purely for aesthetics and to make it easier to search for this\u001b[39;00m\n\u001b[0;32m    971\u001b[0m \u001b[38;5;66;03m# variable since \"backend\" is used in many comments and log/error messages.\u001b[39;00m\n\u001b[0;32m    972\u001b[0m backend_name \u001b[38;5;241m=\u001b[39m backend\n",
      "File \u001b[1;32mc:\\Users\\emily\\Documents\\coursework\\vip lab\\kalman-filter-scene-graph\\.venv\\Lib\\site-packages\\networkx\\algorithms\\similarity.py:193\u001b[0m, in \u001b[0;36mgraph_edit_distance\u001b[1;34m(G1, G2, node_match, edge_match, node_subst_cost, node_del_cost, node_ins_cost, edge_subst_cost, edge_del_cost, edge_ins_cost, roots, upper_bound, timeout)\u001b[0m\n\u001b[0;32m     58\u001b[0m \u001b[38;5;250m\u001b[39m\u001b[38;5;124;03m\"\"\"Returns GED (graph edit distance) between graphs G1 and G2.\u001b[39;00m\n\u001b[0;32m     59\u001b[0m \n\u001b[0;32m     60\u001b[0m \u001b[38;5;124;03mGraph edit distance is a graph similarity measure analogous to\u001b[39;00m\n\u001b[1;32m   (...)\u001b[0m\n\u001b[0;32m    190\u001b[0m \n\u001b[0;32m    191\u001b[0m \u001b[38;5;124;03m\"\"\"\u001b[39;00m\n\u001b[0;32m    192\u001b[0m bestcost \u001b[38;5;241m=\u001b[39m \u001b[38;5;28;01mNone\u001b[39;00m\n\u001b[1;32m--> 193\u001b[0m \u001b[43m\u001b[49m\u001b[38;5;28;43;01mfor\u001b[39;49;00m\u001b[43m \u001b[49m\u001b[43m_\u001b[49m\u001b[43m,\u001b[49m\u001b[43m \u001b[49m\u001b[43m_\u001b[49m\u001b[43m,\u001b[49m\u001b[43m \u001b[49m\u001b[43mcost\u001b[49m\u001b[43m \u001b[49m\u001b[38;5;129;43;01min\u001b[39;49;00m\u001b[43m \u001b[49m\u001b[43moptimize_edit_paths\u001b[49m\u001b[43m(\u001b[49m\n\u001b[0;32m    194\u001b[0m \u001b[43m    \u001b[49m\u001b[43mG1\u001b[49m\u001b[43m,\u001b[49m\n\u001b[0;32m    195\u001b[0m \u001b[43m    \u001b[49m\u001b[43mG2\u001b[49m\u001b[43m,\u001b[49m\n\u001b[0;32m    196\u001b[0m \u001b[43m    \u001b[49m\u001b[43mnode_match\u001b[49m\u001b[43m,\u001b[49m\n\u001b[0;32m    197\u001b[0m \u001b[43m    \u001b[49m\u001b[43medge_match\u001b[49m\u001b[43m,\u001b[49m\n\u001b[0;32m    198\u001b[0m \u001b[43m    \u001b[49m\u001b[43mnode_subst_cost\u001b[49m\u001b[43m,\u001b[49m\n\u001b[0;32m    199\u001b[0m \u001b[43m    \u001b[49m\u001b[43mnode_del_cost\u001b[49m\u001b[43m,\u001b[49m\n\u001b[0;32m    200\u001b[0m \u001b[43m    \u001b[49m\u001b[43mnode_ins_cost\u001b[49m\u001b[43m,\u001b[49m\n\u001b[0;32m    201\u001b[0m \u001b[43m    \u001b[49m\u001b[43medge_subst_cost\u001b[49m\u001b[43m,\u001b[49m\n\u001b[0;32m    202\u001b[0m \u001b[43m    \u001b[49m\u001b[43medge_del_cost\u001b[49m\u001b[43m,\u001b[49m\n\u001b[0;32m    203\u001b[0m \u001b[43m    \u001b[49m\u001b[43medge_ins_cost\u001b[49m\u001b[43m,\u001b[49m\n\u001b[0;32m    204\u001b[0m \u001b[43m    \u001b[49m\u001b[43mupper_bound\u001b[49m\u001b[43m,\u001b[49m\n\u001b[0;32m    205\u001b[0m \u001b[43m    \u001b[49m\u001b[38;5;28;43;01mTrue\u001b[39;49;00m\u001b[43m,\u001b[49m\n\u001b[0;32m    206\u001b[0m \u001b[43m    \u001b[49m\u001b[43mroots\u001b[49m\u001b[43m,\u001b[49m\n\u001b[0;32m    207\u001b[0m \u001b[43m    \u001b[49m\u001b[43mtimeout\u001b[49m\u001b[43m,\u001b[49m\n\u001b[0;32m    208\u001b[0m \u001b[43m\u001b[49m\u001b[43m)\u001b[49m\u001b[43m:\u001b[49m\n\u001b[0;32m    209\u001b[0m \u001b[43m    \u001b[49m\u001b[38;5;66;43;03m# assert bestcost is None or cost < bestcost\u001b[39;49;00m\n\u001b[0;32m    210\u001b[0m \u001b[43m    \u001b[49m\u001b[43mbestcost\u001b[49m\u001b[43m \u001b[49m\u001b[38;5;241;43m=\u001b[39;49m\u001b[43m \u001b[49m\u001b[43mcost\u001b[49m\n\u001b[0;32m    211\u001b[0m \u001b[38;5;28;01mreturn\u001b[39;00m bestcost\n",
      "File \u001b[1;32mc:\\Users\\emily\\Documents\\coursework\\vip lab\\kalman-filter-scene-graph\\.venv\\Lib\\site-packages\\networkx\\algorithms\\similarity.py:1207\u001b[0m, in \u001b[0;36moptimize_edit_paths\u001b[1;34m(G1, G2, node_match, edge_match, node_subst_cost, node_del_cost, node_ins_cost, edge_subst_cost, edge_del_cost, edge_ins_cost, upper_bound, strictly_decreasing, roots, timeout)\u001b[0m\n\u001b[0;32m   1203\u001b[0m \u001b[38;5;66;03m# Now go!\u001b[39;00m\n\u001b[0;32m   1205\u001b[0m done_uv \u001b[38;5;241m=\u001b[39m [] \u001b[38;5;28;01mif\u001b[39;00m roots \u001b[38;5;129;01mis\u001b[39;00m \u001b[38;5;28;01mNone\u001b[39;00m \u001b[38;5;28;01melse\u001b[39;00m [roots]\n\u001b[1;32m-> 1207\u001b[0m \u001b[43m\u001b[49m\u001b[38;5;28;43;01mfor\u001b[39;49;00m\u001b[43m \u001b[49m\u001b[43mvertex_path\u001b[49m\u001b[43m,\u001b[49m\u001b[43m \u001b[49m\u001b[43medge_path\u001b[49m\u001b[43m,\u001b[49m\u001b[43m \u001b[49m\u001b[43mcost\u001b[49m\u001b[43m \u001b[49m\u001b[38;5;129;43;01min\u001b[39;49;00m\u001b[43m \u001b[49m\u001b[43mget_edit_paths\u001b[49m\u001b[43m(\u001b[49m\n\u001b[0;32m   1208\u001b[0m \u001b[43m    \u001b[49m\u001b[43mdone_uv\u001b[49m\u001b[43m,\u001b[49m\u001b[43m \u001b[49m\u001b[43mpending_u\u001b[49m\u001b[43m,\u001b[49m\u001b[43m \u001b[49m\u001b[43mpending_v\u001b[49m\u001b[43m,\u001b[49m\u001b[43m \u001b[49m\u001b[43mCv\u001b[49m\u001b[43m,\u001b[49m\u001b[43m \u001b[49m\u001b[43m[\u001b[49m\u001b[43m]\u001b[49m\u001b[43m,\u001b[49m\u001b[43m \u001b[49m\u001b[43mpending_g\u001b[49m\u001b[43m,\u001b[49m\u001b[43m \u001b[49m\u001b[43mpending_h\u001b[49m\u001b[43m,\u001b[49m\u001b[43m \u001b[49m\u001b[43mCe\u001b[49m\u001b[43m,\u001b[49m\u001b[43m \u001b[49m\u001b[43minitial_cost\u001b[49m\n\u001b[0;32m   1209\u001b[0m \u001b[43m\u001b[49m\u001b[43m)\u001b[49m\u001b[43m:\u001b[49m\n\u001b[0;32m   1210\u001b[0m \u001b[43m    \u001b[49m\u001b[38;5;66;43;03m# assert sorted(G1.nodes) == sorted(u for u, v in vertex_path if u is not None)\u001b[39;49;00m\n\u001b[0;32m   1211\u001b[0m \u001b[43m    \u001b[49m\u001b[38;5;66;43;03m# assert sorted(G2.nodes) == sorted(v for u, v in vertex_path if v is not None)\u001b[39;49;00m\n\u001b[0;32m   1212\u001b[0m \u001b[43m    \u001b[49m\u001b[38;5;66;43;03m# assert sorted(G1.edges) == sorted(g for g, h in edge_path if g is not None)\u001b[39;49;00m\n\u001b[0;32m   1213\u001b[0m \u001b[43m    \u001b[49m\u001b[38;5;66;43;03m# assert sorted(G2.edges) == sorted(h for g, h in edge_path if h is not None)\u001b[39;49;00m\n\u001b[0;32m   1214\u001b[0m \u001b[43m    \u001b[49m\u001b[38;5;66;43;03m# print(vertex_path, edge_path, cost, file = sys.stderr)\u001b[39;49;00m\n\u001b[0;32m   1215\u001b[0m \u001b[43m    \u001b[49m\u001b[38;5;66;43;03m# assert cost == maxcost_value\u001b[39;49;00m\n\u001b[0;32m   1216\u001b[0m \u001b[43m    \u001b[49m\u001b[38;5;28;43;01myield\u001b[39;49;00m\u001b[43m \u001b[49m\u001b[38;5;28;43mlist\u001b[39;49m\u001b[43m(\u001b[49m\u001b[43mvertex_path\u001b[49m\u001b[43m)\u001b[49m\u001b[43m,\u001b[49m\u001b[43m \u001b[49m\u001b[38;5;28;43mlist\u001b[39;49m\u001b[43m(\u001b[49m\u001b[43medge_path\u001b[49m\u001b[43m)\u001b[49m\u001b[43m,\u001b[49m\u001b[43m \u001b[49m\u001b[38;5;28;43mfloat\u001b[39;49m\u001b[43m(\u001b[49m\u001b[43mcost\u001b[49m\u001b[43m)\u001b[49m\n",
      "File \u001b[1;32mc:\\Users\\emily\\Documents\\coursework\\vip lab\\kalman-filter-scene-graph\\.venv\\Lib\\site-packages\\networkx\\algorithms\\similarity.py:1043\u001b[0m, in \u001b[0;36moptimize_edit_paths.<locals>.get_edit_paths\u001b[1;34m(matched_uv, pending_u, pending_v, Cv, matched_gh, pending_g, pending_h, Ce, matched_cost)\u001b[0m\n\u001b[0;32m   1034\u001b[0m G \u001b[38;5;241m=\u001b[39m [\n\u001b[0;32m   1035\u001b[0m     (pending_g\u001b[38;5;241m.\u001b[39mpop(x) \u001b[38;5;28;01mif\u001b[39;00m x \u001b[38;5;241m<\u001b[39m \u001b[38;5;28mlen\u001b[39m(pending_g) \u001b[38;5;28;01melse\u001b[39;00m \u001b[38;5;28;01mNone\u001b[39;00m)\n\u001b[0;32m   1036\u001b[0m     \u001b[38;5;28;01mfor\u001b[39;00m x \u001b[38;5;129;01min\u001b[39;00m \u001b[38;5;28mreversed\u001b[39m(sortedx)\n\u001b[0;32m   1037\u001b[0m ]\n\u001b[0;32m   1038\u001b[0m H \u001b[38;5;241m=\u001b[39m [\n\u001b[0;32m   1039\u001b[0m     (pending_h\u001b[38;5;241m.\u001b[39mpop(y) \u001b[38;5;28;01mif\u001b[39;00m y \u001b[38;5;241m<\u001b[39m \u001b[38;5;28mlen\u001b[39m(pending_h) \u001b[38;5;28;01melse\u001b[39;00m \u001b[38;5;28;01mNone\u001b[39;00m)\n\u001b[0;32m   1040\u001b[0m     \u001b[38;5;28;01mfor\u001b[39;00m y \u001b[38;5;129;01min\u001b[39;00m \u001b[38;5;28mreversed\u001b[39m(sortedy)\n\u001b[0;32m   1041\u001b[0m ]\n\u001b[1;32m-> 1043\u001b[0m \u001b[38;5;28;01myield from\u001b[39;00m get_edit_paths(\n\u001b[0;32m   1044\u001b[0m     matched_uv,\n\u001b[0;32m   1045\u001b[0m     pending_u,\n\u001b[0;32m   1046\u001b[0m     pending_v,\n\u001b[0;32m   1047\u001b[0m     Cv_ij,\n\u001b[0;32m   1048\u001b[0m     matched_gh,\n\u001b[0;32m   1049\u001b[0m     pending_g,\n\u001b[0;32m   1050\u001b[0m     pending_h,\n\u001b[0;32m   1051\u001b[0m     Ce_xy,\n\u001b[0;32m   1052\u001b[0m     matched_cost \u001b[38;5;241m+\u001b[39m edit_cost,\n\u001b[0;32m   1053\u001b[0m )\n\u001b[0;32m   1055\u001b[0m \u001b[38;5;66;03m# backtrack\u001b[39;00m\n\u001b[0;32m   1056\u001b[0m \u001b[38;5;28;01mif\u001b[39;00m u \u001b[38;5;129;01mis\u001b[39;00m \u001b[38;5;129;01mnot\u001b[39;00m \u001b[38;5;28;01mNone\u001b[39;00m:\n",
      "File \u001b[1;32mc:\\Users\\emily\\Documents\\coursework\\vip lab\\kalman-filter-scene-graph\\.venv\\Lib\\site-packages\\networkx\\algorithms\\similarity.py:1043\u001b[0m, in \u001b[0;36moptimize_edit_paths.<locals>.get_edit_paths\u001b[1;34m(matched_uv, pending_u, pending_v, Cv, matched_gh, pending_g, pending_h, Ce, matched_cost)\u001b[0m\n\u001b[0;32m   1034\u001b[0m G \u001b[38;5;241m=\u001b[39m [\n\u001b[0;32m   1035\u001b[0m     (pending_g\u001b[38;5;241m.\u001b[39mpop(x) \u001b[38;5;28;01mif\u001b[39;00m x \u001b[38;5;241m<\u001b[39m \u001b[38;5;28mlen\u001b[39m(pending_g) \u001b[38;5;28;01melse\u001b[39;00m \u001b[38;5;28;01mNone\u001b[39;00m)\n\u001b[0;32m   1036\u001b[0m     \u001b[38;5;28;01mfor\u001b[39;00m x \u001b[38;5;129;01min\u001b[39;00m \u001b[38;5;28mreversed\u001b[39m(sortedx)\n\u001b[0;32m   1037\u001b[0m ]\n\u001b[0;32m   1038\u001b[0m H \u001b[38;5;241m=\u001b[39m [\n\u001b[0;32m   1039\u001b[0m     (pending_h\u001b[38;5;241m.\u001b[39mpop(y) \u001b[38;5;28;01mif\u001b[39;00m y \u001b[38;5;241m<\u001b[39m \u001b[38;5;28mlen\u001b[39m(pending_h) \u001b[38;5;28;01melse\u001b[39;00m \u001b[38;5;28;01mNone\u001b[39;00m)\n\u001b[0;32m   1040\u001b[0m     \u001b[38;5;28;01mfor\u001b[39;00m y \u001b[38;5;129;01min\u001b[39;00m \u001b[38;5;28mreversed\u001b[39m(sortedy)\n\u001b[0;32m   1041\u001b[0m ]\n\u001b[1;32m-> 1043\u001b[0m \u001b[38;5;28;01myield from\u001b[39;00m get_edit_paths(\n\u001b[0;32m   1044\u001b[0m     matched_uv,\n\u001b[0;32m   1045\u001b[0m     pending_u,\n\u001b[0;32m   1046\u001b[0m     pending_v,\n\u001b[0;32m   1047\u001b[0m     Cv_ij,\n\u001b[0;32m   1048\u001b[0m     matched_gh,\n\u001b[0;32m   1049\u001b[0m     pending_g,\n\u001b[0;32m   1050\u001b[0m     pending_h,\n\u001b[0;32m   1051\u001b[0m     Ce_xy,\n\u001b[0;32m   1052\u001b[0m     matched_cost \u001b[38;5;241m+\u001b[39m edit_cost,\n\u001b[0;32m   1053\u001b[0m )\n\u001b[0;32m   1055\u001b[0m \u001b[38;5;66;03m# backtrack\u001b[39;00m\n\u001b[0;32m   1056\u001b[0m \u001b[38;5;28;01mif\u001b[39;00m u \u001b[38;5;129;01mis\u001b[39;00m \u001b[38;5;129;01mnot\u001b[39;00m \u001b[38;5;28;01mNone\u001b[39;00m:\n",
      "    \u001b[1;31m[... skipping similar frames: optimize_edit_paths.<locals>.get_edit_paths at line 1043 (13 times)]\u001b[0m\n",
      "File \u001b[1;32mc:\\Users\\emily\\Documents\\coursework\\vip lab\\kalman-filter-scene-graph\\.venv\\Lib\\site-packages\\networkx\\algorithms\\similarity.py:1043\u001b[0m, in \u001b[0;36moptimize_edit_paths.<locals>.get_edit_paths\u001b[1;34m(matched_uv, pending_u, pending_v, Cv, matched_gh, pending_g, pending_h, Ce, matched_cost)\u001b[0m\n\u001b[0;32m   1034\u001b[0m G \u001b[38;5;241m=\u001b[39m [\n\u001b[0;32m   1035\u001b[0m     (pending_g\u001b[38;5;241m.\u001b[39mpop(x) \u001b[38;5;28;01mif\u001b[39;00m x \u001b[38;5;241m<\u001b[39m \u001b[38;5;28mlen\u001b[39m(pending_g) \u001b[38;5;28;01melse\u001b[39;00m \u001b[38;5;28;01mNone\u001b[39;00m)\n\u001b[0;32m   1036\u001b[0m     \u001b[38;5;28;01mfor\u001b[39;00m x \u001b[38;5;129;01min\u001b[39;00m \u001b[38;5;28mreversed\u001b[39m(sortedx)\n\u001b[0;32m   1037\u001b[0m ]\n\u001b[0;32m   1038\u001b[0m H \u001b[38;5;241m=\u001b[39m [\n\u001b[0;32m   1039\u001b[0m     (pending_h\u001b[38;5;241m.\u001b[39mpop(y) \u001b[38;5;28;01mif\u001b[39;00m y \u001b[38;5;241m<\u001b[39m \u001b[38;5;28mlen\u001b[39m(pending_h) \u001b[38;5;28;01melse\u001b[39;00m \u001b[38;5;28;01mNone\u001b[39;00m)\n\u001b[0;32m   1040\u001b[0m     \u001b[38;5;28;01mfor\u001b[39;00m y \u001b[38;5;129;01min\u001b[39;00m \u001b[38;5;28mreversed\u001b[39m(sortedy)\n\u001b[0;32m   1041\u001b[0m ]\n\u001b[1;32m-> 1043\u001b[0m \u001b[38;5;28;01myield from\u001b[39;00m get_edit_paths(\n\u001b[0;32m   1044\u001b[0m     matched_uv,\n\u001b[0;32m   1045\u001b[0m     pending_u,\n\u001b[0;32m   1046\u001b[0m     pending_v,\n\u001b[0;32m   1047\u001b[0m     Cv_ij,\n\u001b[0;32m   1048\u001b[0m     matched_gh,\n\u001b[0;32m   1049\u001b[0m     pending_g,\n\u001b[0;32m   1050\u001b[0m     pending_h,\n\u001b[0;32m   1051\u001b[0m     Ce_xy,\n\u001b[0;32m   1052\u001b[0m     matched_cost \u001b[38;5;241m+\u001b[39m edit_cost,\n\u001b[0;32m   1053\u001b[0m )\n\u001b[0;32m   1055\u001b[0m \u001b[38;5;66;03m# backtrack\u001b[39;00m\n\u001b[0;32m   1056\u001b[0m \u001b[38;5;28;01mif\u001b[39;00m u \u001b[38;5;129;01mis\u001b[39;00m \u001b[38;5;129;01mnot\u001b[39;00m \u001b[38;5;28;01mNone\u001b[39;00m:\n",
      "File \u001b[1;32mc:\\Users\\emily\\Documents\\coursework\\vip lab\\kalman-filter-scene-graph\\.venv\\Lib\\site-packages\\networkx\\algorithms\\similarity.py:1013\u001b[0m, in \u001b[0;36moptimize_edit_paths.<locals>.get_edit_paths\u001b[1;34m(matched_uv, pending_u, pending_v, Cv, matched_gh, pending_g, pending_h, Ce, matched_cost)\u001b[0m\n\u001b[0;32m   1002\u001b[0m \u001b[38;5;28;01melse\u001b[39;00m:\n\u001b[0;32m   1003\u001b[0m     edit_ops \u001b[38;5;241m=\u001b[39m get_edit_ops(\n\u001b[0;32m   1004\u001b[0m         matched_uv,\n\u001b[0;32m   1005\u001b[0m         pending_u,\n\u001b[1;32m   (...)\u001b[0m\n\u001b[0;32m   1011\u001b[0m         matched_cost,\n\u001b[0;32m   1012\u001b[0m     )\n\u001b[1;32m-> 1013\u001b[0m \u001b[43m    \u001b[49m\u001b[38;5;28;43;01mfor\u001b[39;49;00m\u001b[43m \u001b[49m\u001b[43mij\u001b[49m\u001b[43m,\u001b[49m\u001b[43m \u001b[49m\u001b[43mCv_ij\u001b[49m\u001b[43m,\u001b[49m\u001b[43m \u001b[49m\u001b[43mxy\u001b[49m\u001b[43m,\u001b[49m\u001b[43m \u001b[49m\u001b[43mCe_xy\u001b[49m\u001b[43m,\u001b[49m\u001b[43m \u001b[49m\u001b[43medit_cost\u001b[49m\u001b[43m \u001b[49m\u001b[38;5;129;43;01min\u001b[39;49;00m\u001b[43m \u001b[49m\u001b[43medit_ops\u001b[49m\u001b[43m:\u001b[49m\n\u001b[0;32m   1014\u001b[0m \u001b[43m        \u001b[49m\u001b[43mi\u001b[49m\u001b[43m,\u001b[49m\u001b[43m \u001b[49m\u001b[43mj\u001b[49m\u001b[43m \u001b[49m\u001b[38;5;241;43m=\u001b[39;49m\u001b[43m \u001b[49m\u001b[43mij\u001b[49m\n\u001b[0;32m   1015\u001b[0m \u001b[43m        \u001b[49m\u001b[38;5;66;43;03m# assert Cv.C[i, j] + sum(Ce.C[t] for t in xy) == edit_cost\u001b[39;49;00m\n",
      "File \u001b[1;32mc:\\Users\\emily\\Documents\\coursework\\vip lab\\kalman-filter-scene-graph\\.venv\\Lib\\site-packages\\networkx\\algorithms\\similarity.py:931\u001b[0m, in \u001b[0;36moptimize_edit_paths.<locals>.get_edit_ops\u001b[1;34m(matched_uv, pending_u, pending_v, Cv, pending_g, pending_h, Ce, matched_cost)\u001b[0m\n\u001b[0;32m    929\u001b[0m \u001b[38;5;28;01mif\u001b[39;00m prune(matched_cost \u001b[38;5;241m+\u001b[39m Cv\u001b[38;5;241m.\u001b[39mC[i, j] \u001b[38;5;241m+\u001b[39m Cv_ij\u001b[38;5;241m.\u001b[39mls \u001b[38;5;241m+\u001b[39m localCe\u001b[38;5;241m.\u001b[39mls):\n\u001b[0;32m    930\u001b[0m     \u001b[38;5;28;01mcontinue\u001b[39;00m\n\u001b[1;32m--> 931\u001b[0m Ce_xy \u001b[38;5;241m=\u001b[39m \u001b[43mreduce_Ce\u001b[49m\u001b[43m(\u001b[49m\u001b[43mCe\u001b[49m\u001b[43m,\u001b[49m\u001b[43m \u001b[49m\u001b[43mxy\u001b[49m\u001b[43m,\u001b[49m\u001b[43m \u001b[49m\u001b[38;5;28;43mlen\u001b[39;49m\u001b[43m(\u001b[49m\u001b[43mpending_g\u001b[49m\u001b[43m)\u001b[49m\u001b[43m,\u001b[49m\u001b[43m \u001b[49m\u001b[38;5;28;43mlen\u001b[39;49m\u001b[43m(\u001b[49m\u001b[43mpending_h\u001b[49m\u001b[43m)\u001b[49m\u001b[43m)\u001b[49m\n\u001b[0;32m    932\u001b[0m \u001b[38;5;66;03m# assert Ce.ls <= localCe.ls + Ce_xy.ls\u001b[39;00m\n\u001b[0;32m    933\u001b[0m \u001b[38;5;28;01mif\u001b[39;00m prune(matched_cost \u001b[38;5;241m+\u001b[39m Cv\u001b[38;5;241m.\u001b[39mC[i, j] \u001b[38;5;241m+\u001b[39m Cv_ij\u001b[38;5;241m.\u001b[39mls \u001b[38;5;241m+\u001b[39m localCe\u001b[38;5;241m.\u001b[39mls \u001b[38;5;241m+\u001b[39m Ce_xy\u001b[38;5;241m.\u001b[39mls):\n",
      "File \u001b[1;32mc:\\Users\\emily\\Documents\\coursework\\vip lab\\kalman-filter-scene-graph\\.venv\\Lib\\site-packages\\networkx\\algorithms\\similarity.py:837\u001b[0m, in \u001b[0;36moptimize_edit_paths.<locals>.reduce_Ce\u001b[1;34m(Ce, ij, m, n)\u001b[0m\n\u001b[0;32m    835\u001b[0m     m_i \u001b[38;5;241m=\u001b[39m m \u001b[38;5;241m-\u001b[39m \u001b[38;5;28msum\u001b[39m(\u001b[38;5;241m1\u001b[39m \u001b[38;5;28;01mfor\u001b[39;00m t \u001b[38;5;129;01min\u001b[39;00m i \u001b[38;5;28;01mif\u001b[39;00m t \u001b[38;5;241m<\u001b[39m m)\n\u001b[0;32m    836\u001b[0m     n_j \u001b[38;5;241m=\u001b[39m n \u001b[38;5;241m-\u001b[39m \u001b[38;5;28msum\u001b[39m(\u001b[38;5;241m1\u001b[39m \u001b[38;5;28;01mfor\u001b[39;00m t \u001b[38;5;129;01min\u001b[39;00m j \u001b[38;5;28;01mif\u001b[39;00m t \u001b[38;5;241m<\u001b[39m n)\n\u001b[1;32m--> 837\u001b[0m     \u001b[38;5;28;01mreturn\u001b[39;00m make_CostMatrix(\u001b[43mreduce_C\u001b[49m\u001b[43m(\u001b[49m\u001b[43mCe\u001b[49m\u001b[38;5;241;43m.\u001b[39;49m\u001b[43mC\u001b[49m\u001b[43m,\u001b[49m\u001b[43m \u001b[49m\u001b[43mi\u001b[49m\u001b[43m,\u001b[49m\u001b[43m \u001b[49m\u001b[43mj\u001b[49m\u001b[43m,\u001b[49m\u001b[43m \u001b[49m\u001b[43mm\u001b[49m\u001b[43m,\u001b[49m\u001b[43m \u001b[49m\u001b[43mn\u001b[49m\u001b[43m)\u001b[49m, m_i, n_j)\n\u001b[0;32m    838\u001b[0m \u001b[38;5;28;01mreturn\u001b[39;00m Ce\n",
      "File \u001b[1;32mc:\\Users\\emily\\Documents\\coursework\\vip lab\\kalman-filter-scene-graph\\.venv\\Lib\\site-packages\\networkx\\algorithms\\similarity.py:731\u001b[0m, in \u001b[0;36moptimize_edit_paths.<locals>.reduce_C\u001b[1;34m(C, i, j, m, n)\u001b[0m\n\u001b[0;32m    729\u001b[0m row_ind \u001b[38;5;241m=\u001b[39m [k \u001b[38;5;129;01mnot\u001b[39;00m \u001b[38;5;129;01min\u001b[39;00m i \u001b[38;5;129;01mand\u001b[39;00m k \u001b[38;5;241m-\u001b[39m m \u001b[38;5;129;01mnot\u001b[39;00m \u001b[38;5;129;01min\u001b[39;00m j \u001b[38;5;28;01mfor\u001b[39;00m k \u001b[38;5;129;01min\u001b[39;00m \u001b[38;5;28mrange\u001b[39m(m \u001b[38;5;241m+\u001b[39m n)]\n\u001b[0;32m    730\u001b[0m col_ind \u001b[38;5;241m=\u001b[39m [k \u001b[38;5;129;01mnot\u001b[39;00m \u001b[38;5;129;01min\u001b[39;00m j \u001b[38;5;129;01mand\u001b[39;00m k \u001b[38;5;241m-\u001b[39m n \u001b[38;5;129;01mnot\u001b[39;00m \u001b[38;5;129;01min\u001b[39;00m i \u001b[38;5;28;01mfor\u001b[39;00m k \u001b[38;5;129;01min\u001b[39;00m \u001b[38;5;28mrange\u001b[39m(m \u001b[38;5;241m+\u001b[39m n)]\n\u001b[1;32m--> 731\u001b[0m \u001b[38;5;28;01mreturn\u001b[39;00m \u001b[43mC\u001b[49m\u001b[43m[\u001b[49m\u001b[43mrow_ind\u001b[49m\u001b[43m,\u001b[49m\u001b[43m \u001b[49m\u001b[43m:\u001b[49m\u001b[43m]\u001b[49m\u001b[43m[\u001b[49m\u001b[43m:\u001b[49m\u001b[43m,\u001b[49m\u001b[43m \u001b[49m\u001b[43mcol_ind\u001b[49m\u001b[43m]\u001b[49m\n",
      "\u001b[1;31mKeyboardInterrupt\u001b[0m: "
     ]
    }
   ],
   "source": [
    "print(diff(graphs[0], graphs[1]))"
   ]
  }
 ],
 "metadata": {
  "kernelspec": {
   "display_name": "Python (kalman-filter-scene-graph)",
   "language": "python",
   "name": "kalman-filter-scene-graph"
  },
  "language_info": {
   "codemirror_mode": {
    "name": "ipython",
    "version": 3
   },
   "file_extension": ".py",
   "mimetype": "text/x-python",
   "name": "python",
   "nbconvert_exporter": "python",
   "pygments_lexer": "ipython3",
   "version": "3.11.5"
  }
 },
 "nbformat": 4,
 "nbformat_minor": 2
}
